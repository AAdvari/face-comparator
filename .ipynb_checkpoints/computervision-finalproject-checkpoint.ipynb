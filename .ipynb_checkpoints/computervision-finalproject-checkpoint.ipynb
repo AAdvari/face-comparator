{
 "cells": [
  {
   "cell_type": "markdown",
   "id": "68258d2b",
   "metadata": {},
   "source": [
    "# Using Face-Recognition Library "
   ]
  },
  {
   "cell_type": "markdown",
   "id": "b9e80881",
   "metadata": {},
   "source": [
    "### Defining Comparator Function using face_recognition lib "
   ]
  },
  {
   "cell_type": "code",
   "execution_count": 29,
   "id": "a12915f1",
   "metadata": {},
   "outputs": [],
   "source": [
    "import face_recognition as fr\n",
    "\n",
    "def compare_faces(first_img_path, second_img_path):\n",
    "    first_img = fr.load_image_file(first_img_path) \n",
    "    second_img = fr.load_image_file(second_img_path)\n",
    "\n",
    "    first_img_enc = fr.face_encodings(first_img)[0]\n",
    "    second_img_enc = fr.face_encodings(second_img)[0]\n",
    "\n",
    "    result = fr.compare_faces([first_img_enc], second_img_enc, tolerance = 0.7) \n",
    "    if(result[0]):\n",
    "        print(\"same person\")\n",
    "    else:\n",
    "        print(\"not the same person\")"
   ]
  },
  {
   "cell_type": "markdown",
   "id": "325cddcb",
   "metadata": {},
   "source": [
    "### Test"
   ]
  },
  {
   "cell_type": "code",
   "execution_count": 30,
   "id": "c5970b27",
   "metadata": {},
   "outputs": [
    {
     "name": "stdout",
     "output_type": "stream",
     "text": [
      "same person\n",
      "same person\n",
      "not the same person\n",
      "not the same person\n",
      "not the same person\n",
      "not the same person\n"
     ]
    }
   ],
   "source": [
    "ronaldo1 = \"./cr7-1.jpg\"\n",
    "ronaldo2 = \"./cr7-2.jpg\"\n",
    "messi1 = \"./messi1.jpg\"\n",
    "messi2 = \"./messi2.jpg\" \n",
    "compare_faces(ronaldo1, ronaldo2)\n",
    "compare_faces(messi1, messi2)\n",
    "compare_faces(ronaldo1, messi1)\n",
    "compare_faces(ronaldo1, messi2)\n",
    "compare_faces(ronaldo2, messi1)\n",
    "compare_faces(ronaldo2, messi2)"
   ]
  },
  {
   "cell_type": "markdown",
   "id": "28ece127",
   "metadata": {},
   "source": [
    "## Using Facenet Directly "
   ]
  },
  {
   "cell_type": "code",
   "execution_count": 13,
   "id": "0e021526",
   "metadata": {},
   "outputs": [],
   "source": [
    "from mtcnn import MTCNN\n",
    "from keras_facenet import FaceNet \n",
    "import tensorflow as tf \n",
    "import cv2 \n",
    "import numpy as np \n",
    "from scipy.spatial.distance import cosine \n",
    "import math\n",
    "import os \n",
    "import sys"
   ]
  },
  {
   "cell_type": "code",
   "execution_count": 14,
   "id": "da5bdaf3",
   "metadata": {},
   "outputs": [],
   "source": [
    "class HiddenPrints:\n",
    "    def __enter__(self):\n",
    "        self._original_stdout = sys.stdout\n",
    "        sys.stdout = open(os.devnull, 'w')\n",
    "\n",
    "    def __exit__(self, exc_type, exc_val, exc_tb):\n",
    "        sys.stdout.close()\n",
    "        sys.stdout = self._original_stdout"
   ]
  },
  {
   "cell_type": "code",
   "execution_count": 15,
   "id": "fe76fb85",
   "metadata": {},
   "outputs": [],
   "source": [
    "detector = MTCNN() \n",
    "embedder = FaceNet()"
   ]
  },
  {
   "cell_type": "code",
   "execution_count": 31,
   "id": "0e4ac082",
   "metadata": {},
   "outputs": [],
   "source": [
    "def extract_face(image_path):\n",
    "    image = cv2.imread(image_path)\n",
    "    image = cv2.cvtColor(image, cv2.COLOR_BGR2RGB)\n",
    "    x1, y1, w, h = detector.detect_faces(image)[0]['box']\n",
    "    x1 = abs(x1) \n",
    "    y1 = abs(y1) \n",
    "    x2 = x1 + w \n",
    "    y2 = y1 + h \n",
    "\n",
    "    face = image[y1:y2, x1:x2]\n",
    "    face = np.expand_dims(face, axis = 0) \n",
    "    return face\n",
    "def get_embeddings(image): \n",
    "    embeddings =  embedder.embeddings(image)\n",
    "    return embeddings[0]\n",
    "\n",
    "def compare_faces2(first_image_path, second_image_path):\n",
    "    with HiddenPrints():\n",
    "        first_face = extract_face(first_image_path) \n",
    "        second_face = extract_face(second_image_path) \n",
    "        f1_emb = get_embeddings(first_face)\n",
    "        f2_emb = get_embeddings(second_face)\n",
    "        result = True if cosine(f1_emb, f2_emb) < .6 else False \n",
    "    if(result):\n",
    "        print(\"same person!\")\n",
    "    else:\n",
    "        print(\"not the same!\")"
   ]
  },
  {
   "cell_type": "code",
   "execution_count": 32,
   "id": "4e7a9d65",
   "metadata": {},
   "outputs": [],
   "source": [
    "from skimage import io \n",
    "def show_image(vector):\n",
    "    io.imshow(vector)"
   ]
  },
  {
   "cell_type": "code",
   "execution_count": 33,
   "id": "f881beca",
   "metadata": {},
   "outputs": [
    {
     "name": "stdout",
     "output_type": "stream",
     "text": [
      "same person!\n",
      "same person!\n",
      "not the same!\n",
      "not the same!\n",
      "not the same!\n",
      "not the same!\n"
     ]
    }
   ],
   "source": [
    "compare_faces2(ronaldo1, ronaldo2)\n",
    "compare_faces2(messi1, messi2)\n",
    "compare_faces2(ronaldo1, messi2)\n",
    "compare_faces2(ronaldo2, messi1)\n",
    "compare_faces2(ronaldo1, messi1)\n",
    "compare_faces2(ronaldo2, messi2)"
   ]
  }
 ],
 "metadata": {
  "kernelspec": {
   "display_name": "Python 3 (ipykernel)",
   "language": "python",
   "name": "python3"
  },
  "language_info": {
   "codemirror_mode": {
    "name": "ipython",
    "version": 3
   },
   "file_extension": ".py",
   "mimetype": "text/x-python",
   "name": "python",
   "nbconvert_exporter": "python",
   "pygments_lexer": "ipython3",
   "version": "3.10.6"
  }
 },
 "nbformat": 4,
 "nbformat_minor": 5
}
